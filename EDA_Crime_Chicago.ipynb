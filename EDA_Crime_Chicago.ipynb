{
 "cells": [
  {
   "cell_type": "markdown",
   "metadata": {},
   "source": [
    "<h1><center> Assignment 1 - Exploratory Data Analysis(EDA) </center></h1>\n",
    "\n",
    "#### Date: 09/26/2019\n",
    "#### Author: Kamrun\n",
    "#### Course: DSE 6000\n",
    "#### Dataset: Crimes - 2001 to present - Dashboard \n",
    "#### Dataset link: https://data.cityofchicago.org/Public-Safety/Crimes-2001-to-present-Dashboard/5cd6-ry5g\n",
    "#### Colab link: https://storage.googleapis.com/skyhope/Crime_Chicago.csv"
   ]
  },
  {
   "cell_type": "markdown",
   "metadata": {},
   "source": [
    "# Crime in Chicago\n",
    "Crime in Chicago is one of the most popular topics for all data scientists due to the availability of huge amounts of publicly available high quality data set which will help all data scientists to explore.\n",
    "\n",
    "In this notebook, I am going to explore more about crime in Chicago and try to answer the following questions:\n",
    "Question_1: How many types of crimes are found in chicago over the given period? \n",
    "Question-2: Which location in chicago experienced highest number of crime incidents?\n",
    "Question_3: what is the trend of the crimes from 2001 to 2019?\n",
    "Question-4: Are some types of crimes more likely to happen in specific month of the year?\n",
    "Question-5: Are some types of crimes more likely to happen in specific day of the week?\n",
    "Question-6: Are some types of crimes more likely to happen in specific time of the day?\n",
    "Question-7: Demonstrate arrest rate based on crime categories\n"
   ]
  },
  {
   "cell_type": "markdown",
   "metadata": {},
   "source": [
    "\n",
    "# Importing data and loading packages \n",
    "First, I am going to import libraries required and read the data into python.\n"
   ]
  },
  {
   "cell_type": "code",
   "execution_count": 28,
   "metadata": {},
   "outputs": [],
   "source": [
    "import pandas as pd\n",
    "import numpy as np\n",
    "import seaborn as sns\n",
    "import matplotlib.pyplot as plt\n",
    "%matplotlib inline\n",
    "plt.style.use('seaborn')"
   ]
  },
  {
   "cell_type": "markdown",
   "metadata": {},
   "source": [
    "I uploaded the *.csv file on google cloud. Then, I created google cloud url link which I used to load the data \n",
    "here."
   ]
  },
  {
   "cell_type": "code",
   "execution_count": null,
   "metadata": {},
   "outputs": [],
   "source": [
    "crime_chicago = pd.read_csv('https://storage.googleapis.com/skyhope/Crime_Chicago.csv')"
   ]
  },
  {
   "cell_type": "markdown",
   "metadata": {},
   "source": [
    "# Overview of the dataset\n",
    "In this section, i will check how many columns and rows in our dataset are and what their types are and also explore summary statistics of our dataset. \n"
   ]
  },
  {
   "cell_type": "code",
   "execution_count": 2,
   "metadata": {},
   "outputs": [
    {
     "name": "stdout",
     "output_type": "stream",
     "text": [
      "(6963286, 30)\n",
      "<class 'pandas.core.frame.DataFrame'>\n",
      "RangeIndex: 6963286 entries, 0 to 6963285\n",
      "Data columns (total 30 columns):\n",
      "ID                            int64\n",
      "Case Number                   object\n",
      "Date                          object\n",
      "Block                         object\n",
      "IUCR                          object\n",
      "Primary Type                  object\n",
      "Description                   object\n",
      "Location Description          object\n",
      "Arrest                        bool\n",
      "Domestic                      bool\n",
      "Beat                          int64\n",
      "District                      float64\n",
      "Ward                          float64\n",
      "Community Area                float64\n",
      "FBI Code                      object\n",
      "X Coordinate                  float64\n",
      "Y Coordinate                  float64\n",
      "Year                          int64\n",
      "Updated On                    object\n",
      "Latitude                      float64\n",
      "Longitude                     float64\n",
      "Location                      object\n",
      "Historical Wards 2003-2015    float64\n",
      "Zip Codes                     float64\n",
      "Community Areas               float64\n",
      "Census Tracts                 float64\n",
      "Wards                         float64\n",
      "Boundaries - ZIP Codes        float64\n",
      "Police Districts              float64\n",
      "Police Beats                  float64\n",
      "dtypes: bool(2), float64(15), int64(3), object(10)\n",
      "memory usage: 1.5+ GB\n"
     ]
    }
   ],
   "source": [
    "print(crime_chicago.shape)\n",
    "crime_chicago.info()\n"
   ]
  },
  {
   "cell_type": "markdown",
   "metadata": {},
   "source": [
    "\n",
    "In crime_chicago dataset, there are 30 columns and 6963286 number of rows. This dataset consists of character, integer, \n",
    "boolian, and floating variables. \n",
    "\n",
    "In the next part of the code, i will explore summary statistics which include mean, standard deviation, minimum and maximum value of each column.\n"
   ]
  },
  {
   "cell_type": "code",
   "execution_count": 3,
   "metadata": {},
   "outputs": [
    {
     "data": {
      "text/html": [
       "<div>\n",
       "<style scoped>\n",
       "    .dataframe tbody tr th:only-of-type {\n",
       "        vertical-align: middle;\n",
       "    }\n",
       "\n",
       "    .dataframe tbody tr th {\n",
       "        vertical-align: top;\n",
       "    }\n",
       "\n",
       "    .dataframe thead th {\n",
       "        text-align: right;\n",
       "    }\n",
       "</style>\n",
       "<table border=\"1\" class=\"dataframe\">\n",
       "  <thead>\n",
       "    <tr style=\"text-align: right;\">\n",
       "      <th></th>\n",
       "      <th>ID</th>\n",
       "      <th>Beat</th>\n",
       "      <th>District</th>\n",
       "      <th>Ward</th>\n",
       "      <th>Community Area</th>\n",
       "      <th>X Coordinate</th>\n",
       "      <th>Y Coordinate</th>\n",
       "      <th>Year</th>\n",
       "      <th>Latitude</th>\n",
       "      <th>Longitude</th>\n",
       "      <th>Historical Wards 2003-2015</th>\n",
       "      <th>Zip Codes</th>\n",
       "      <th>Community Areas</th>\n",
       "      <th>Census Tracts</th>\n",
       "      <th>Wards</th>\n",
       "      <th>Boundaries - ZIP Codes</th>\n",
       "      <th>Police Districts</th>\n",
       "      <th>Police Beats</th>\n",
       "    </tr>\n",
       "  </thead>\n",
       "  <tbody>\n",
       "    <tr>\n",
       "      <th>count</th>\n",
       "      <td>6.963286e+06</td>\n",
       "      <td>6.963286e+06</td>\n",
       "      <td>6.963239e+06</td>\n",
       "      <td>6.348460e+06</td>\n",
       "      <td>6.349791e+06</td>\n",
       "      <td>6.897157e+06</td>\n",
       "      <td>6.897157e+06</td>\n",
       "      <td>6.963286e+06</td>\n",
       "      <td>6.897157e+06</td>\n",
       "      <td>6.897157e+06</td>\n",
       "      <td>6.877133e+06</td>\n",
       "      <td>6.897157e+06</td>\n",
       "      <td>6.879883e+06</td>\n",
       "      <td>6.882027e+06</td>\n",
       "      <td>6.879995e+06</td>\n",
       "      <td>6.879930e+06</td>\n",
       "      <td>6.880963e+06</td>\n",
       "      <td>6.880986e+06</td>\n",
       "    </tr>\n",
       "    <tr>\n",
       "      <th>mean</th>\n",
       "      <td>6.392928e+06</td>\n",
       "      <td>1.190240e+03</td>\n",
       "      <td>1.129831e+01</td>\n",
       "      <td>2.269934e+01</td>\n",
       "      <td>3.756233e+01</td>\n",
       "      <td>1.164532e+06</td>\n",
       "      <td>1.885733e+06</td>\n",
       "      <td>2.008644e+03</td>\n",
       "      <td>4.184205e+01</td>\n",
       "      <td>-8.767175e+01</td>\n",
       "      <td>2.738513e+01</td>\n",
       "      <td>1.910594e+04</td>\n",
       "      <td>3.872514e+01</td>\n",
       "      <td>3.813677e+02</td>\n",
       "      <td>2.554233e+01</td>\n",
       "      <td>3.146718e+01</td>\n",
       "      <td>1.492157e+01</td>\n",
       "      <td>1.504932e+02</td>\n",
       "    </tr>\n",
       "    <tr>\n",
       "      <th>std</th>\n",
       "      <td>3.136681e+06</td>\n",
       "      <td>7.032299e+02</td>\n",
       "      <td>6.945768e+00</td>\n",
       "      <td>1.383472e+01</td>\n",
       "      <td>2.153692e+01</td>\n",
       "      <td>1.714748e+04</td>\n",
       "      <td>3.267622e+04</td>\n",
       "      <td>5.254071e+00</td>\n",
       "      <td>8.991558e-02</td>\n",
       "      <td>6.205980e-02</td>\n",
       "      <td>1.526482e+01</td>\n",
       "      <td>5.738033e+03</td>\n",
       "      <td>2.009053e+01</td>\n",
       "      <td>2.300869e+02</td>\n",
       "      <td>1.477210e+01</td>\n",
       "      <td>1.914200e+01</td>\n",
       "      <td>6.452095e+00</td>\n",
       "      <td>7.849008e+01</td>\n",
       "    </tr>\n",
       "    <tr>\n",
       "      <th>min</th>\n",
       "      <td>6.340000e+02</td>\n",
       "      <td>1.110000e+02</td>\n",
       "      <td>1.000000e+00</td>\n",
       "      <td>1.000000e+00</td>\n",
       "      <td>0.000000e+00</td>\n",
       "      <td>0.000000e+00</td>\n",
       "      <td>0.000000e+00</td>\n",
       "      <td>2.001000e+03</td>\n",
       "      <td>3.661945e+01</td>\n",
       "      <td>-9.168657e+01</td>\n",
       "      <td>1.000000e+00</td>\n",
       "      <td>2.733000e+03</td>\n",
       "      <td>1.000000e+00</td>\n",
       "      <td>1.000000e+00</td>\n",
       "      <td>1.000000e+00</td>\n",
       "      <td>1.000000e+00</td>\n",
       "      <td>1.000000e+00</td>\n",
       "      <td>1.000000e+00</td>\n",
       "    </tr>\n",
       "    <tr>\n",
       "      <th>25%</th>\n",
       "      <td>3.496304e+06</td>\n",
       "      <td>6.220000e+02</td>\n",
       "      <td>6.000000e+00</td>\n",
       "      <td>1.000000e+01</td>\n",
       "      <td>2.300000e+01</td>\n",
       "      <td>1.152941e+06</td>\n",
       "      <td>1.859184e+06</td>\n",
       "      <td>2.004000e+03</td>\n",
       "      <td>4.176890e+01</td>\n",
       "      <td>-8.771383e+01</td>\n",
       "      <td>1.400000e+01</td>\n",
       "      <td>2.118400e+04</td>\n",
       "      <td>2.500000e+01</td>\n",
       "      <td>1.760000e+02</td>\n",
       "      <td>1.200000e+01</td>\n",
       "      <td>1.500000e+01</td>\n",
       "      <td>1.000000e+01</td>\n",
       "      <td>8.300000e+01</td>\n",
       "    </tr>\n",
       "    <tr>\n",
       "      <th>50%</th>\n",
       "      <td>6.379614e+06</td>\n",
       "      <td>1.111000e+03</td>\n",
       "      <td>1.000000e+01</td>\n",
       "      <td>2.200000e+01</td>\n",
       "      <td>3.200000e+01</td>\n",
       "      <td>1.166016e+06</td>\n",
       "      <td>1.890630e+06</td>\n",
       "      <td>2.008000e+03</td>\n",
       "      <td>4.185568e+01</td>\n",
       "      <td>-8.766612e+01</td>\n",
       "      <td>2.700000e+01</td>\n",
       "      <td>2.156000e+04</td>\n",
       "      <td>3.700000e+01</td>\n",
       "      <td>3.780000e+02</td>\n",
       "      <td>2.600000e+01</td>\n",
       "      <td>3.000000e+01</td>\n",
       "      <td>1.600000e+01</td>\n",
       "      <td>1.530000e+02</td>\n",
       "    </tr>\n",
       "    <tr>\n",
       "      <th>75%</th>\n",
       "      <td>9.105690e+06</td>\n",
       "      <td>1.731000e+03</td>\n",
       "      <td>1.700000e+01</td>\n",
       "      <td>3.400000e+01</td>\n",
       "      <td>5.700000e+01</td>\n",
       "      <td>1.176352e+06</td>\n",
       "      <td>1.909276e+06</td>\n",
       "      <td>2.013000e+03</td>\n",
       "      <td>4.190679e+01</td>\n",
       "      <td>-8.762833e+01</td>\n",
       "      <td>4.100000e+01</td>\n",
       "      <td>2.224300e+04</td>\n",
       "      <td>5.800000e+01</td>\n",
       "      <td>5.770000e+02</td>\n",
       "      <td>3.700000e+01</td>\n",
       "      <td>5.000000e+01</td>\n",
       "      <td>2.000000e+01</td>\n",
       "      <td>2.210000e+02</td>\n",
       "    </tr>\n",
       "    <tr>\n",
       "      <th>max</th>\n",
       "      <td>1.182673e+07</td>\n",
       "      <td>2.535000e+03</td>\n",
       "      <td>3.100000e+01</td>\n",
       "      <td>5.000000e+01</td>\n",
       "      <td>7.700000e+01</td>\n",
       "      <td>1.205119e+06</td>\n",
       "      <td>1.951622e+06</td>\n",
       "      <td>2.019000e+03</td>\n",
       "      <td>4.202291e+01</td>\n",
       "      <td>-8.752453e+01</td>\n",
       "      <td>5.300000e+01</td>\n",
       "      <td>2.691200e+04</td>\n",
       "      <td>7.700000e+01</td>\n",
       "      <td>8.010000e+02</td>\n",
       "      <td>5.000000e+01</td>\n",
       "      <td>6.100000e+01</td>\n",
       "      <td>2.500000e+01</td>\n",
       "      <td>2.770000e+02</td>\n",
       "    </tr>\n",
       "  </tbody>\n",
       "</table>\n",
       "</div>"
      ],
      "text/plain": [
       "                 ID          Beat      District          Ward  Community Area  \\\n",
       "count  6.963286e+06  6.963286e+06  6.963239e+06  6.348460e+06    6.349791e+06   \n",
       "mean   6.392928e+06  1.190240e+03  1.129831e+01  2.269934e+01    3.756233e+01   \n",
       "std    3.136681e+06  7.032299e+02  6.945768e+00  1.383472e+01    2.153692e+01   \n",
       "min    6.340000e+02  1.110000e+02  1.000000e+00  1.000000e+00    0.000000e+00   \n",
       "25%    3.496304e+06  6.220000e+02  6.000000e+00  1.000000e+01    2.300000e+01   \n",
       "50%    6.379614e+06  1.111000e+03  1.000000e+01  2.200000e+01    3.200000e+01   \n",
       "75%    9.105690e+06  1.731000e+03  1.700000e+01  3.400000e+01    5.700000e+01   \n",
       "max    1.182673e+07  2.535000e+03  3.100000e+01  5.000000e+01    7.700000e+01   \n",
       "\n",
       "       X Coordinate  Y Coordinate          Year      Latitude     Longitude  \\\n",
       "count  6.897157e+06  6.897157e+06  6.963286e+06  6.897157e+06  6.897157e+06   \n",
       "mean   1.164532e+06  1.885733e+06  2.008644e+03  4.184205e+01 -8.767175e+01   \n",
       "std    1.714748e+04  3.267622e+04  5.254071e+00  8.991558e-02  6.205980e-02   \n",
       "min    0.000000e+00  0.000000e+00  2.001000e+03  3.661945e+01 -9.168657e+01   \n",
       "25%    1.152941e+06  1.859184e+06  2.004000e+03  4.176890e+01 -8.771383e+01   \n",
       "50%    1.166016e+06  1.890630e+06  2.008000e+03  4.185568e+01 -8.766612e+01   \n",
       "75%    1.176352e+06  1.909276e+06  2.013000e+03  4.190679e+01 -8.762833e+01   \n",
       "max    1.205119e+06  1.951622e+06  2.019000e+03  4.202291e+01 -8.752453e+01   \n",
       "\n",
       "       Historical Wards 2003-2015     Zip Codes  Community Areas  \\\n",
       "count                6.877133e+06  6.897157e+06     6.879883e+06   \n",
       "mean                 2.738513e+01  1.910594e+04     3.872514e+01   \n",
       "std                  1.526482e+01  5.738033e+03     2.009053e+01   \n",
       "min                  1.000000e+00  2.733000e+03     1.000000e+00   \n",
       "25%                  1.400000e+01  2.118400e+04     2.500000e+01   \n",
       "50%                  2.700000e+01  2.156000e+04     3.700000e+01   \n",
       "75%                  4.100000e+01  2.224300e+04     5.800000e+01   \n",
       "max                  5.300000e+01  2.691200e+04     7.700000e+01   \n",
       "\n",
       "       Census Tracts         Wards  Boundaries - ZIP Codes  Police Districts  \\\n",
       "count   6.882027e+06  6.879995e+06            6.879930e+06      6.880963e+06   \n",
       "mean    3.813677e+02  2.554233e+01            3.146718e+01      1.492157e+01   \n",
       "std     2.300869e+02  1.477210e+01            1.914200e+01      6.452095e+00   \n",
       "min     1.000000e+00  1.000000e+00            1.000000e+00      1.000000e+00   \n",
       "25%     1.760000e+02  1.200000e+01            1.500000e+01      1.000000e+01   \n",
       "50%     3.780000e+02  2.600000e+01            3.000000e+01      1.600000e+01   \n",
       "75%     5.770000e+02  3.700000e+01            5.000000e+01      2.000000e+01   \n",
       "max     8.010000e+02  5.000000e+01            6.100000e+01      2.500000e+01   \n",
       "\n",
       "       Police Beats  \n",
       "count  6.880986e+06  \n",
       "mean   1.504932e+02  \n",
       "std    7.849008e+01  \n",
       "min    1.000000e+00  \n",
       "25%    8.300000e+01  \n",
       "50%    1.530000e+02  \n",
       "75%    2.210000e+02  \n",
       "max    2.770000e+02  "
      ]
     },
     "execution_count": 3,
     "metadata": {},
     "output_type": "execute_result"
    }
   ],
   "source": [
    "crime_chicago.describe()\n"
   ]
  },
  {
   "cell_type": "code",
   "execution_count": 4,
   "metadata": {},
   "outputs": [
    {
     "data": {
      "text/html": [
       "<div>\n",
       "<style scoped>\n",
       "    .dataframe tbody tr th:only-of-type {\n",
       "        vertical-align: middle;\n",
       "    }\n",
       "\n",
       "    .dataframe tbody tr th {\n",
       "        vertical-align: top;\n",
       "    }\n",
       "\n",
       "    .dataframe thead th {\n",
       "        text-align: right;\n",
       "    }\n",
       "</style>\n",
       "<table border=\"1\" class=\"dataframe\">\n",
       "  <thead>\n",
       "    <tr style=\"text-align: right;\">\n",
       "      <th></th>\n",
       "      <th>ID</th>\n",
       "      <th>Case Number</th>\n",
       "      <th>Date</th>\n",
       "      <th>Block</th>\n",
       "      <th>IUCR</th>\n",
       "      <th>Primary Type</th>\n",
       "      <th>Description</th>\n",
       "      <th>Location Description</th>\n",
       "      <th>Arrest</th>\n",
       "      <th>Domestic</th>\n",
       "      <th>...</th>\n",
       "      <th>Longitude</th>\n",
       "      <th>Location</th>\n",
       "      <th>Historical Wards 2003-2015</th>\n",
       "      <th>Zip Codes</th>\n",
       "      <th>Community Areas</th>\n",
       "      <th>Census Tracts</th>\n",
       "      <th>Wards</th>\n",
       "      <th>Boundaries - ZIP Codes</th>\n",
       "      <th>Police Districts</th>\n",
       "      <th>Police Beats</th>\n",
       "    </tr>\n",
       "  </thead>\n",
       "  <tbody>\n",
       "    <tr>\n",
       "      <th>6963281</th>\n",
       "      <td>3536061</td>\n",
       "      <td>HK577780</td>\n",
       "      <td>01/01/2001 12:00:00 AM</td>\n",
       "      <td>072XX S WENTWORTH AVE</td>\n",
       "      <td>0840</td>\n",
       "      <td>THEFT</td>\n",
       "      <td>FINANCIAL ID THEFT: OVER $300</td>\n",
       "      <td>RESIDENCE</td>\n",
       "      <td>False</td>\n",
       "      <td>False</td>\n",
       "      <td>...</td>\n",
       "      <td>-87.629872</td>\n",
       "      <td>(41.763414952, -87.629871775)</td>\n",
       "      <td>17.0</td>\n",
       "      <td>21559.0</td>\n",
       "      <td>67.0</td>\n",
       "      <td>494.0</td>\n",
       "      <td>32.0</td>\n",
       "      <td>11.0</td>\n",
       "      <td>17.0</td>\n",
       "      <td>210.0</td>\n",
       "    </tr>\n",
       "    <tr>\n",
       "      <th>6963282</th>\n",
       "      <td>3890045</td>\n",
       "      <td>HL265830</td>\n",
       "      <td>01/01/2001 12:00:00 AM</td>\n",
       "      <td>113XX S HARVARD AVE</td>\n",
       "      <td>0840</td>\n",
       "      <td>THEFT</td>\n",
       "      <td>FINANCIAL ID THEFT: OVER $300</td>\n",
       "      <td>RESIDENCE</td>\n",
       "      <td>False</td>\n",
       "      <td>False</td>\n",
       "      <td>...</td>\n",
       "      <td>-87.631536</td>\n",
       "      <td>(41.68831595, -87.631536251)</td>\n",
       "      <td>45.0</td>\n",
       "      <td>21861.0</td>\n",
       "      <td>45.0</td>\n",
       "      <td>660.0</td>\n",
       "      <td>22.0</td>\n",
       "      <td>19.0</td>\n",
       "      <td>10.0</td>\n",
       "      <td>267.0</td>\n",
       "    </tr>\n",
       "    <tr>\n",
       "      <th>6963283</th>\n",
       "      <td>3496126</td>\n",
       "      <td>HK563568</td>\n",
       "      <td>01/01/2001 12:00:00 AM</td>\n",
       "      <td>012XX W 49TH PL</td>\n",
       "      <td>0265</td>\n",
       "      <td>CRIM SEXUAL ASSAULT</td>\n",
       "      <td>AGGRAVATED: OTHER</td>\n",
       "      <td>RESIDENCE</td>\n",
       "      <td>True</td>\n",
       "      <td>False</td>\n",
       "      <td>...</td>\n",
       "      <td>-87.657315</td>\n",
       "      <td>(41.804258318, -87.65731478)</td>\n",
       "      <td>19.0</td>\n",
       "      <td>14924.0</td>\n",
       "      <td>59.0</td>\n",
       "      <td>739.0</td>\n",
       "      <td>4.0</td>\n",
       "      <td>37.0</td>\n",
       "      <td>23.0</td>\n",
       "      <td>118.0</td>\n",
       "    </tr>\n",
       "    <tr>\n",
       "      <th>6963284</th>\n",
       "      <td>3661792</td>\n",
       "      <td>HK760148</td>\n",
       "      <td>01/01/2001 12:00:00 AM</td>\n",
       "      <td>054XX S DREXEL AVE</td>\n",
       "      <td>0840</td>\n",
       "      <td>THEFT</td>\n",
       "      <td>FINANCIAL ID THEFT: OVER $300</td>\n",
       "      <td>RESIDENCE</td>\n",
       "      <td>False</td>\n",
       "      <td>False</td>\n",
       "      <td>...</td>\n",
       "      <td>-87.604013</td>\n",
       "      <td>(41.796676399, -87.604012947)</td>\n",
       "      <td>32.0</td>\n",
       "      <td>21192.0</td>\n",
       "      <td>8.0</td>\n",
       "      <td>440.0</td>\n",
       "      <td>33.0</td>\n",
       "      <td>10.0</td>\n",
       "      <td>24.0</td>\n",
       "      <td>124.0</td>\n",
       "    </tr>\n",
       "    <tr>\n",
       "      <th>6963285</th>\n",
       "      <td>3361926</td>\n",
       "      <td>HK408994</td>\n",
       "      <td>01/01/2001 12:00:00 AM</td>\n",
       "      <td>059XX N CLARK ST</td>\n",
       "      <td>1754</td>\n",
       "      <td>OFFENSE INVOLVING CHILDREN</td>\n",
       "      <td>AGG SEX ASSLT OF CHILD FAM MBR</td>\n",
       "      <td>RESIDENCE</td>\n",
       "      <td>False</td>\n",
       "      <td>False</td>\n",
       "      <td>...</td>\n",
       "      <td>-87.670069</td>\n",
       "      <td>(41.989019862, -87.67006944)</td>\n",
       "      <td>46.0</td>\n",
       "      <td>4451.0</td>\n",
       "      <td>76.0</td>\n",
       "      <td>538.0</td>\n",
       "      <td>24.0</td>\n",
       "      <td>14.0</td>\n",
       "      <td>2.0</td>\n",
       "      <td>55.0</td>\n",
       "    </tr>\n",
       "  </tbody>\n",
       "</table>\n",
       "<p>5 rows × 30 columns</p>\n",
       "</div>"
      ],
      "text/plain": [
       "              ID Case Number                    Date                  Block  \\\n",
       "6963281  3536061    HK577780  01/01/2001 12:00:00 AM  072XX S WENTWORTH AVE   \n",
       "6963282  3890045    HL265830  01/01/2001 12:00:00 AM    113XX S HARVARD AVE   \n",
       "6963283  3496126    HK563568  01/01/2001 12:00:00 AM        012XX W 49TH PL   \n",
       "6963284  3661792    HK760148  01/01/2001 12:00:00 AM     054XX S DREXEL AVE   \n",
       "6963285  3361926    HK408994  01/01/2001 12:00:00 AM       059XX N CLARK ST   \n",
       "\n",
       "         IUCR                Primary Type                     Description  \\\n",
       "6963281  0840                       THEFT   FINANCIAL ID THEFT: OVER $300   \n",
       "6963282  0840                       THEFT   FINANCIAL ID THEFT: OVER $300   \n",
       "6963283  0265         CRIM SEXUAL ASSAULT               AGGRAVATED: OTHER   \n",
       "6963284  0840                       THEFT   FINANCIAL ID THEFT: OVER $300   \n",
       "6963285  1754  OFFENSE INVOLVING CHILDREN  AGG SEX ASSLT OF CHILD FAM MBR   \n",
       "\n",
       "        Location Description  Arrest  Domestic      ...       Longitude  \\\n",
       "6963281            RESIDENCE   False     False      ...      -87.629872   \n",
       "6963282            RESIDENCE   False     False      ...      -87.631536   \n",
       "6963283            RESIDENCE    True     False      ...      -87.657315   \n",
       "6963284            RESIDENCE   False     False      ...      -87.604013   \n",
       "6963285            RESIDENCE   False     False      ...      -87.670069   \n",
       "\n",
       "                              Location  Historical Wards 2003-2015  Zip Codes  \\\n",
       "6963281  (41.763414952, -87.629871775)                        17.0    21559.0   \n",
       "6963282   (41.68831595, -87.631536251)                        45.0    21861.0   \n",
       "6963283   (41.804258318, -87.65731478)                        19.0    14924.0   \n",
       "6963284  (41.796676399, -87.604012947)                        32.0    21192.0   \n",
       "6963285   (41.989019862, -87.67006944)                        46.0     4451.0   \n",
       "\n",
       "        Community Areas  Census Tracts  Wards  Boundaries - ZIP Codes  \\\n",
       "6963281            67.0          494.0   32.0                    11.0   \n",
       "6963282            45.0          660.0   22.0                    19.0   \n",
       "6963283            59.0          739.0    4.0                    37.0   \n",
       "6963284             8.0          440.0   33.0                    10.0   \n",
       "6963285            76.0          538.0   24.0                    14.0   \n",
       "\n",
       "        Police Districts  Police Beats  \n",
       "6963281             17.0         210.0  \n",
       "6963282             10.0         267.0  \n",
       "6963283             23.0         118.0  \n",
       "6963284             24.0         124.0  \n",
       "6963285              2.0          55.0  \n",
       "\n",
       "[5 rows x 30 columns]"
      ]
     },
     "execution_count": 4,
     "metadata": {},
     "output_type": "execute_result"
    }
   ],
   "source": [
    "crime_chicago.head(5)\n",
    "crime_chicago.tail(5)"
   ]
  },
  {
   "cell_type": "markdown",
   "metadata": {},
   "source": [
    "# Cleaning the data \n",
    "\n",
    "Now I will clean the data by fixing the column names, filling in null or empty values, time formating, and so on."
   ]
  },
  {
   "cell_type": "markdown",
   "metadata": {},
   "source": [
    "## Check if Column name has space in between words\n",
    "For simplicity, the best practice is to remove spaces between words and substitute with underscore."
   ]
  },
  {
   "cell_type": "code",
   "execution_count": 5,
   "metadata": {},
   "outputs": [
    {
     "data": {
      "text/html": [
       "<div>\n",
       "<style scoped>\n",
       "    .dataframe tbody tr th:only-of-type {\n",
       "        vertical-align: middle;\n",
       "    }\n",
       "\n",
       "    .dataframe tbody tr th {\n",
       "        vertical-align: top;\n",
       "    }\n",
       "\n",
       "    .dataframe thead th {\n",
       "        text-align: right;\n",
       "    }\n",
       "</style>\n",
       "<table border=\"1\" class=\"dataframe\">\n",
       "  <thead>\n",
       "    <tr style=\"text-align: right;\">\n",
       "      <th></th>\n",
       "      <th>ID</th>\n",
       "      <th>Case_Number</th>\n",
       "      <th>Date</th>\n",
       "      <th>Block</th>\n",
       "      <th>IUCR</th>\n",
       "      <th>Primary_Type</th>\n",
       "      <th>Description</th>\n",
       "      <th>Location_Description</th>\n",
       "      <th>Arrest</th>\n",
       "      <th>Domestic</th>\n",
       "      <th>...</th>\n",
       "      <th>Longitude</th>\n",
       "      <th>Location</th>\n",
       "      <th>Historical_Wards_2003-2015</th>\n",
       "      <th>Zip_Codes</th>\n",
       "      <th>Community_Areas</th>\n",
       "      <th>Census_Tracts</th>\n",
       "      <th>Wards</th>\n",
       "      <th>Boundaries_-_ZIP_Codes</th>\n",
       "      <th>Police_Districts</th>\n",
       "      <th>Police_Beats</th>\n",
       "    </tr>\n",
       "  </thead>\n",
       "  <tbody>\n",
       "    <tr>\n",
       "      <th>0</th>\n",
       "      <td>11822700</td>\n",
       "      <td>JC426287</td>\n",
       "      <td>09/06/2019 11:55:00 PM</td>\n",
       "      <td>012XX W ADDISON ST</td>\n",
       "      <td>0810</td>\n",
       "      <td>THEFT</td>\n",
       "      <td>OVER $500</td>\n",
       "      <td>APARTMENT</td>\n",
       "      <td>False</td>\n",
       "      <td>False</td>\n",
       "      <td>...</td>\n",
       "      <td>-87.659472</td>\n",
       "      <td>(41.94714472, -87.6594722)</td>\n",
       "      <td>38.0</td>\n",
       "      <td>21186.0</td>\n",
       "      <td>57.0</td>\n",
       "      <td>728.0</td>\n",
       "      <td>25.0</td>\n",
       "      <td>53.0</td>\n",
       "      <td>5.0</td>\n",
       "      <td>12.0</td>\n",
       "    </tr>\n",
       "    <tr>\n",
       "      <th>1</th>\n",
       "      <td>11819855</td>\n",
       "      <td>JC423179</td>\n",
       "      <td>09/06/2019 11:55:00 PM</td>\n",
       "      <td>005XX E 32ND ST</td>\n",
       "      <td>0486</td>\n",
       "      <td>BATTERY</td>\n",
       "      <td>DOMESTIC BATTERY SIMPLE</td>\n",
       "      <td>APARTMENT</td>\n",
       "      <td>False</td>\n",
       "      <td>True</td>\n",
       "      <td>...</td>\n",
       "      <td>-87.613033</td>\n",
       "      <td>(41.836069707, -87.613033345)</td>\n",
       "      <td>1.0</td>\n",
       "      <td>21194.0</td>\n",
       "      <td>1.0</td>\n",
       "      <td>581.0</td>\n",
       "      <td>10.0</td>\n",
       "      <td>40.0</td>\n",
       "      <td>24.0</td>\n",
       "      <td>169.0</td>\n",
       "    </tr>\n",
       "    <tr>\n",
       "      <th>2</th>\n",
       "      <td>11819844</td>\n",
       "      <td>JC423159</td>\n",
       "      <td>09/06/2019 11:53:00 PM</td>\n",
       "      <td>017XX S MICHIGAN AVE</td>\n",
       "      <td>0320</td>\n",
       "      <td>ROBBERY</td>\n",
       "      <td>STRONGARM - NO WEAPON</td>\n",
       "      <td>TAVERN/LIQUOR STORE</td>\n",
       "      <td>False</td>\n",
       "      <td>False</td>\n",
       "      <td>...</td>\n",
       "      <td>-87.623951</td>\n",
       "      <td>(41.858643312, -87.6239505)</td>\n",
       "      <td>48.0</td>\n",
       "      <td>21194.0</td>\n",
       "      <td>34.0</td>\n",
       "      <td>374.0</td>\n",
       "      <td>9.0</td>\n",
       "      <td>40.0</td>\n",
       "      <td>22.0</td>\n",
       "      <td>148.0</td>\n",
       "    </tr>\n",
       "    <tr>\n",
       "      <th>3</th>\n",
       "      <td>11819848</td>\n",
       "      <td>JC423127</td>\n",
       "      <td>09/06/2019 11:52:00 PM</td>\n",
       "      <td>005XX N DRAKE AVE</td>\n",
       "      <td>1320</td>\n",
       "      <td>CRIMINAL DAMAGE</td>\n",
       "      <td>TO VEHICLE</td>\n",
       "      <td>STREET</td>\n",
       "      <td>False</td>\n",
       "      <td>False</td>\n",
       "      <td>...</td>\n",
       "      <td>-87.714951</td>\n",
       "      <td>(41.890645892, -87.714951125)</td>\n",
       "      <td>41.0</td>\n",
       "      <td>21572.0</td>\n",
       "      <td>24.0</td>\n",
       "      <td>584.0</td>\n",
       "      <td>46.0</td>\n",
       "      <td>30.0</td>\n",
       "      <td>16.0</td>\n",
       "      <td>65.0</td>\n",
       "    </tr>\n",
       "    <tr>\n",
       "      <th>4</th>\n",
       "      <td>11819900</td>\n",
       "      <td>JC423169</td>\n",
       "      <td>09/06/2019 11:50:00 PM</td>\n",
       "      <td>055XX S WOOD ST</td>\n",
       "      <td>0560</td>\n",
       "      <td>ASSAULT</td>\n",
       "      <td>SIMPLE</td>\n",
       "      <td>RESIDENCE PORCH/HALLWAY</td>\n",
       "      <td>False</td>\n",
       "      <td>False</td>\n",
       "      <td>...</td>\n",
       "      <td>-87.669414</td>\n",
       "      <td>(41.792959315, -87.669413975)</td>\n",
       "      <td>44.0</td>\n",
       "      <td>22257.0</td>\n",
       "      <td>65.0</td>\n",
       "      <td>345.0</td>\n",
       "      <td>3.0</td>\n",
       "      <td>23.0</td>\n",
       "      <td>17.0</td>\n",
       "      <td>270.0</td>\n",
       "    </tr>\n",
       "  </tbody>\n",
       "</table>\n",
       "<p>5 rows × 30 columns</p>\n",
       "</div>"
      ],
      "text/plain": [
       "         ID Case_Number                    Date                 Block  IUCR  \\\n",
       "0  11822700    JC426287  09/06/2019 11:55:00 PM    012XX W ADDISON ST  0810   \n",
       "1  11819855    JC423179  09/06/2019 11:55:00 PM       005XX E 32ND ST  0486   \n",
       "2  11819844    JC423159  09/06/2019 11:53:00 PM  017XX S MICHIGAN AVE  0320   \n",
       "3  11819848    JC423127  09/06/2019 11:52:00 PM     005XX N DRAKE AVE  1320   \n",
       "4  11819900    JC423169  09/06/2019 11:50:00 PM       055XX S WOOD ST  0560   \n",
       "\n",
       "      Primary_Type              Description     Location_Description  Arrest  \\\n",
       "0            THEFT                OVER $500                APARTMENT   False   \n",
       "1          BATTERY  DOMESTIC BATTERY SIMPLE                APARTMENT   False   \n",
       "2          ROBBERY    STRONGARM - NO WEAPON      TAVERN/LIQUOR STORE   False   \n",
       "3  CRIMINAL DAMAGE               TO VEHICLE                   STREET   False   \n",
       "4          ASSAULT                   SIMPLE  RESIDENCE PORCH/HALLWAY   False   \n",
       "\n",
       "   Domestic      ...       Longitude                       Location  \\\n",
       "0     False      ...      -87.659472     (41.94714472, -87.6594722)   \n",
       "1      True      ...      -87.613033  (41.836069707, -87.613033345)   \n",
       "2     False      ...      -87.623951    (41.858643312, -87.6239505)   \n",
       "3     False      ...      -87.714951  (41.890645892, -87.714951125)   \n",
       "4     False      ...      -87.669414  (41.792959315, -87.669413975)   \n",
       "\n",
       "   Historical_Wards_2003-2015  Zip_Codes Community_Areas  Census_Tracts  \\\n",
       "0                        38.0    21186.0            57.0          728.0   \n",
       "1                         1.0    21194.0             1.0          581.0   \n",
       "2                        48.0    21194.0            34.0          374.0   \n",
       "3                        41.0    21572.0            24.0          584.0   \n",
       "4                        44.0    22257.0            65.0          345.0   \n",
       "\n",
       "   Wards  Boundaries_-_ZIP_Codes Police_Districts  Police_Beats  \n",
       "0   25.0                    53.0              5.0          12.0  \n",
       "1   10.0                    40.0             24.0         169.0  \n",
       "2    9.0                    40.0             22.0         148.0  \n",
       "3   46.0                    30.0             16.0          65.0  \n",
       "4    3.0                    23.0             17.0         270.0  \n",
       "\n",
       "[5 rows x 30 columns]"
      ]
     },
     "execution_count": 5,
     "metadata": {},
     "output_type": "execute_result"
    }
   ],
   "source": [
    "\n",
    "crime_chicago.columns = crime_chicago.columns.str.replace(' ', '_')\n",
    "crime_chicago.head()\n"
   ]
  },
  {
   "cell_type": "markdown",
   "metadata": {},
   "source": [
    "## Dropping extra columns I do not need\n",
    "In order to answer the questions listed above, some of columns are unnecessary. Therefore, I drop those extra columns. "
   ]
  },
  {
   "cell_type": "code",
   "execution_count": 6,
   "metadata": {},
   "outputs": [],
   "source": [
    "\n",
    "\n",
    "crime_chicago.drop(columns=['Case_Number','IUCR','Description','Ward','FBI_Code','Updated_On','Latitude','Longitude','Location','Historical_Wards_2003-2015','Zip_Codes',\n",
    "                            'Community_Areas','Census_Tracts','Wards','Boundaries_-_ZIP_Codes','Police_Beats','Beat'],axis=1,inplace=True)\n",
    "\n"
   ]
  },
  {
   "cell_type": "code",
   "execution_count": 7,
   "metadata": {},
   "outputs": [
    {
     "data": {
      "text/html": [
       "<div>\n",
       "<style scoped>\n",
       "    .dataframe tbody tr th:only-of-type {\n",
       "        vertical-align: middle;\n",
       "    }\n",
       "\n",
       "    .dataframe tbody tr th {\n",
       "        vertical-align: top;\n",
       "    }\n",
       "\n",
       "    .dataframe thead th {\n",
       "        text-align: right;\n",
       "    }\n",
       "</style>\n",
       "<table border=\"1\" class=\"dataframe\">\n",
       "  <thead>\n",
       "    <tr style=\"text-align: right;\">\n",
       "      <th></th>\n",
       "      <th>ID</th>\n",
       "      <th>Date</th>\n",
       "      <th>Block</th>\n",
       "      <th>Primary_Type</th>\n",
       "      <th>Location_Description</th>\n",
       "      <th>Arrest</th>\n",
       "      <th>Domestic</th>\n",
       "      <th>District</th>\n",
       "      <th>Community_Area</th>\n",
       "      <th>X_Coordinate</th>\n",
       "      <th>Y_Coordinate</th>\n",
       "      <th>Year</th>\n",
       "      <th>Police_Districts</th>\n",
       "    </tr>\n",
       "  </thead>\n",
       "  <tbody>\n",
       "    <tr>\n",
       "      <th>0</th>\n",
       "      <td>11822700</td>\n",
       "      <td>09/06/2019 11:55:00 PM</td>\n",
       "      <td>012XX W ADDISON ST</td>\n",
       "      <td>THEFT</td>\n",
       "      <td>APARTMENT</td>\n",
       "      <td>False</td>\n",
       "      <td>False</td>\n",
       "      <td>19.0</td>\n",
       "      <td>6.0</td>\n",
       "      <td>1167566.0</td>\n",
       "      <td>1924050.0</td>\n",
       "      <td>2019</td>\n",
       "      <td>5.0</td>\n",
       "    </tr>\n",
       "    <tr>\n",
       "      <th>1</th>\n",
       "      <td>11819855</td>\n",
       "      <td>09/06/2019 11:55:00 PM</td>\n",
       "      <td>005XX E 32ND ST</td>\n",
       "      <td>BATTERY</td>\n",
       "      <td>APARTMENT</td>\n",
       "      <td>False</td>\n",
       "      <td>True</td>\n",
       "      <td>2.0</td>\n",
       "      <td>35.0</td>\n",
       "      <td>1180539.0</td>\n",
       "      <td>1883677.0</td>\n",
       "      <td>2019</td>\n",
       "      <td>24.0</td>\n",
       "    </tr>\n",
       "    <tr>\n",
       "      <th>2</th>\n",
       "      <td>11819844</td>\n",
       "      <td>09/06/2019 11:53:00 PM</td>\n",
       "      <td>017XX S MICHIGAN AVE</td>\n",
       "      <td>ROBBERY</td>\n",
       "      <td>TAVERN/LIQUOR STORE</td>\n",
       "      <td>False</td>\n",
       "      <td>False</td>\n",
       "      <td>1.0</td>\n",
       "      <td>33.0</td>\n",
       "      <td>1177496.0</td>\n",
       "      <td>1891878.0</td>\n",
       "      <td>2019</td>\n",
       "      <td>22.0</td>\n",
       "    </tr>\n",
       "    <tr>\n",
       "      <th>3</th>\n",
       "      <td>11819848</td>\n",
       "      <td>09/06/2019 11:52:00 PM</td>\n",
       "      <td>005XX N DRAKE AVE</td>\n",
       "      <td>CRIMINAL DAMAGE</td>\n",
       "      <td>STREET</td>\n",
       "      <td>False</td>\n",
       "      <td>False</td>\n",
       "      <td>11.0</td>\n",
       "      <td>23.0</td>\n",
       "      <td>1152622.0</td>\n",
       "      <td>1903348.0</td>\n",
       "      <td>2019</td>\n",
       "      <td>16.0</td>\n",
       "    </tr>\n",
       "    <tr>\n",
       "      <th>4</th>\n",
       "      <td>11819900</td>\n",
       "      <td>09/06/2019 11:50:00 PM</td>\n",
       "      <td>055XX S WOOD ST</td>\n",
       "      <td>ASSAULT</td>\n",
       "      <td>RESIDENCE PORCH/HALLWAY</td>\n",
       "      <td>False</td>\n",
       "      <td>False</td>\n",
       "      <td>7.0</td>\n",
       "      <td>67.0</td>\n",
       "      <td>1165296.0</td>\n",
       "      <td>1867844.0</td>\n",
       "      <td>2019</td>\n",
       "      <td>17.0</td>\n",
       "    </tr>\n",
       "  </tbody>\n",
       "</table>\n",
       "</div>"
      ],
      "text/plain": [
       "         ID                    Date                 Block     Primary_Type  \\\n",
       "0  11822700  09/06/2019 11:55:00 PM    012XX W ADDISON ST            THEFT   \n",
       "1  11819855  09/06/2019 11:55:00 PM       005XX E 32ND ST          BATTERY   \n",
       "2  11819844  09/06/2019 11:53:00 PM  017XX S MICHIGAN AVE          ROBBERY   \n",
       "3  11819848  09/06/2019 11:52:00 PM     005XX N DRAKE AVE  CRIMINAL DAMAGE   \n",
       "4  11819900  09/06/2019 11:50:00 PM       055XX S WOOD ST          ASSAULT   \n",
       "\n",
       "      Location_Description  Arrest  Domestic  District  Community_Area  \\\n",
       "0                APARTMENT   False     False      19.0             6.0   \n",
       "1                APARTMENT   False      True       2.0            35.0   \n",
       "2      TAVERN/LIQUOR STORE   False     False       1.0            33.0   \n",
       "3                   STREET   False     False      11.0            23.0   \n",
       "4  RESIDENCE PORCH/HALLWAY   False     False       7.0            67.0   \n",
       "\n",
       "   X_Coordinate  Y_Coordinate  Year  Police_Districts  \n",
       "0     1167566.0     1924050.0  2019               5.0  \n",
       "1     1180539.0     1883677.0  2019              24.0  \n",
       "2     1177496.0     1891878.0  2019              22.0  \n",
       "3     1152622.0     1903348.0  2019              16.0  \n",
       "4     1165296.0     1867844.0  2019              17.0  "
      ]
     },
     "execution_count": 7,
     "metadata": {},
     "output_type": "execute_result"
    }
   ],
   "source": [
    "crime_chicago.head()"
   ]
  },
  {
   "cell_type": "markdown",
   "metadata": {},
   "source": [
    "## Converting column names to lower case\n",
    "mix of upper and lower case in any specific columns is not convenient. When I do querry of any column, if the name is not typed correctly, the code will throw an error. Therefore, it is more convenient to convert all upper case to lower case.\n"
   ]
  },
  {
   "cell_type": "code",
   "execution_count": 8,
   "metadata": {},
   "outputs": [
    {
     "data": {
      "text/html": [
       "<div>\n",
       "<style scoped>\n",
       "    .dataframe tbody tr th:only-of-type {\n",
       "        vertical-align: middle;\n",
       "    }\n",
       "\n",
       "    .dataframe tbody tr th {\n",
       "        vertical-align: top;\n",
       "    }\n",
       "\n",
       "    .dataframe thead th {\n",
       "        text-align: right;\n",
       "    }\n",
       "</style>\n",
       "<table border=\"1\" class=\"dataframe\">\n",
       "  <thead>\n",
       "    <tr style=\"text-align: right;\">\n",
       "      <th></th>\n",
       "      <th>id</th>\n",
       "      <th>date</th>\n",
       "      <th>block</th>\n",
       "      <th>primary_type</th>\n",
       "      <th>location_description</th>\n",
       "      <th>arrest</th>\n",
       "      <th>domestic</th>\n",
       "      <th>district</th>\n",
       "      <th>community_area</th>\n",
       "      <th>x_coordinate</th>\n",
       "      <th>y_coordinate</th>\n",
       "      <th>year</th>\n",
       "      <th>police_districts</th>\n",
       "    </tr>\n",
       "  </thead>\n",
       "  <tbody>\n",
       "    <tr>\n",
       "      <th>0</th>\n",
       "      <td>11822700</td>\n",
       "      <td>09/06/2019 11:55:00 PM</td>\n",
       "      <td>012XX W ADDISON ST</td>\n",
       "      <td>THEFT</td>\n",
       "      <td>APARTMENT</td>\n",
       "      <td>False</td>\n",
       "      <td>False</td>\n",
       "      <td>19.0</td>\n",
       "      <td>6.0</td>\n",
       "      <td>1167566.0</td>\n",
       "      <td>1924050.0</td>\n",
       "      <td>2019</td>\n",
       "      <td>5.0</td>\n",
       "    </tr>\n",
       "    <tr>\n",
       "      <th>1</th>\n",
       "      <td>11819855</td>\n",
       "      <td>09/06/2019 11:55:00 PM</td>\n",
       "      <td>005XX E 32ND ST</td>\n",
       "      <td>BATTERY</td>\n",
       "      <td>APARTMENT</td>\n",
       "      <td>False</td>\n",
       "      <td>True</td>\n",
       "      <td>2.0</td>\n",
       "      <td>35.0</td>\n",
       "      <td>1180539.0</td>\n",
       "      <td>1883677.0</td>\n",
       "      <td>2019</td>\n",
       "      <td>24.0</td>\n",
       "    </tr>\n",
       "    <tr>\n",
       "      <th>2</th>\n",
       "      <td>11819844</td>\n",
       "      <td>09/06/2019 11:53:00 PM</td>\n",
       "      <td>017XX S MICHIGAN AVE</td>\n",
       "      <td>ROBBERY</td>\n",
       "      <td>TAVERN/LIQUOR STORE</td>\n",
       "      <td>False</td>\n",
       "      <td>False</td>\n",
       "      <td>1.0</td>\n",
       "      <td>33.0</td>\n",
       "      <td>1177496.0</td>\n",
       "      <td>1891878.0</td>\n",
       "      <td>2019</td>\n",
       "      <td>22.0</td>\n",
       "    </tr>\n",
       "    <tr>\n",
       "      <th>3</th>\n",
       "      <td>11819848</td>\n",
       "      <td>09/06/2019 11:52:00 PM</td>\n",
       "      <td>005XX N DRAKE AVE</td>\n",
       "      <td>CRIMINAL DAMAGE</td>\n",
       "      <td>STREET</td>\n",
       "      <td>False</td>\n",
       "      <td>False</td>\n",
       "      <td>11.0</td>\n",
       "      <td>23.0</td>\n",
       "      <td>1152622.0</td>\n",
       "      <td>1903348.0</td>\n",
       "      <td>2019</td>\n",
       "      <td>16.0</td>\n",
       "    </tr>\n",
       "    <tr>\n",
       "      <th>4</th>\n",
       "      <td>11819900</td>\n",
       "      <td>09/06/2019 11:50:00 PM</td>\n",
       "      <td>055XX S WOOD ST</td>\n",
       "      <td>ASSAULT</td>\n",
       "      <td>RESIDENCE PORCH/HALLWAY</td>\n",
       "      <td>False</td>\n",
       "      <td>False</td>\n",
       "      <td>7.0</td>\n",
       "      <td>67.0</td>\n",
       "      <td>1165296.0</td>\n",
       "      <td>1867844.0</td>\n",
       "      <td>2019</td>\n",
       "      <td>17.0</td>\n",
       "    </tr>\n",
       "  </tbody>\n",
       "</table>\n",
       "</div>"
      ],
      "text/plain": [
       "         id                    date                 block     primary_type  \\\n",
       "0  11822700  09/06/2019 11:55:00 PM    012XX W ADDISON ST            THEFT   \n",
       "1  11819855  09/06/2019 11:55:00 PM       005XX E 32ND ST          BATTERY   \n",
       "2  11819844  09/06/2019 11:53:00 PM  017XX S MICHIGAN AVE          ROBBERY   \n",
       "3  11819848  09/06/2019 11:52:00 PM     005XX N DRAKE AVE  CRIMINAL DAMAGE   \n",
       "4  11819900  09/06/2019 11:50:00 PM       055XX S WOOD ST          ASSAULT   \n",
       "\n",
       "      location_description  arrest  domestic  district  community_area  \\\n",
       "0                APARTMENT   False     False      19.0             6.0   \n",
       "1                APARTMENT   False      True       2.0            35.0   \n",
       "2      TAVERN/LIQUOR STORE   False     False       1.0            33.0   \n",
       "3                   STREET   False     False      11.0            23.0   \n",
       "4  RESIDENCE PORCH/HALLWAY   False     False       7.0            67.0   \n",
       "\n",
       "   x_coordinate  y_coordinate  year  police_districts  \n",
       "0     1167566.0     1924050.0  2019               5.0  \n",
       "1     1180539.0     1883677.0  2019              24.0  \n",
       "2     1177496.0     1891878.0  2019              22.0  \n",
       "3     1152622.0     1903348.0  2019              16.0  \n",
       "4     1165296.0     1867844.0  2019              17.0  "
      ]
     },
     "execution_count": 8,
     "metadata": {},
     "output_type": "execute_result"
    }
   ],
   "source": [
    "crime_chicago.columns = crime_chicago.columns.str.lower()  \n",
    "crime_chicago.head()"
   ]
  },
  {
   "cell_type": "markdown",
   "metadata": {},
   "source": [
    "## Deduping\n",
    "Deduping means duplication. Duplicate data may give erroneous results depending on the circumstances we are analyzing. Therefore, they must be checked and removed. "
   ]
  },
  {
   "cell_type": "code",
   "execution_count": 9,
   "metadata": {},
   "outputs": [
    {
     "data": {
      "text/plain": [
       "0"
      ]
     },
     "execution_count": 9,
     "metadata": {},
     "output_type": "execute_result"
    }
   ],
   "source": [
    "crime_chicago.duplicated().sum()\n"
   ]
  },
  {
   "cell_type": "markdown",
   "metadata": {},
   "source": [
    "It can be clearly seen that there is no duplicate values in our dataset"
   ]
  },
  {
   "cell_type": "markdown",
   "metadata": {},
   "source": [
    "## Checking missing values\n",
    "It is very common to have missing values in a large dataset which come from missing entry. Missing vale usually is denoted by NAN, i.e. not a number. Missing values can be taken care several ways. Since my dataset is large, I will drop all the missing values in this case. "
   ]
  },
  {
   "cell_type": "code",
   "execution_count": 10,
   "metadata": {},
   "outputs": [
    {
     "data": {
      "text/plain": [
       "id                           0\n",
       "date                         0\n",
       "block                        0\n",
       "primary_type                 0\n",
       "location_description      5501\n",
       "arrest                       0\n",
       "domestic                     0\n",
       "district                    47\n",
       "community_area          613495\n",
       "x_coordinate             66129\n",
       "y_coordinate             66129\n",
       "year                         0\n",
       "police_districts         82323\n",
       "dtype: int64"
      ]
     },
     "execution_count": 10,
     "metadata": {},
     "output_type": "execute_result"
    }
   ],
   "source": [
    "crime_chicago.isnull().values.any()\n",
    "crime_chicago.isnull().sum()\n"
   ]
  },
  {
   "cell_type": "code",
   "execution_count": 11,
   "metadata": {},
   "outputs": [
    {
     "data": {
      "text/plain": [
       "833624"
      ]
     },
     "execution_count": 11,
     "metadata": {},
     "output_type": "execute_result"
    }
   ],
   "source": [
    "crime_chicago.isnull().sum().sum()"
   ]
  },
  {
   "cell_type": "markdown",
   "metadata": {},
   "source": [
    "## Dropping all the missing values."
   ]
  },
  {
   "cell_type": "code",
   "execution_count": 12,
   "metadata": {},
   "outputs": [
    {
     "data": {
      "text/plain": [
       "(6273435, 13)"
      ]
     },
     "execution_count": 12,
     "metadata": {},
     "output_type": "execute_result"
    }
   ],
   "source": [
    "crime_chicago.dropna(inplace = True)\n",
    "crime_chicago.shape\n"
   ]
  },
  {
   "cell_type": "markdown",
   "metadata": {},
   "source": [
    "## Converting dates to pandas datetime format\n",
    "In this part, I will convert dates to pandas datetime format and set the date time index which will help me a lot later on.\n",
    "\n"
   ]
  },
  {
   "cell_type": "code",
   "execution_count": 13,
   "metadata": {},
   "outputs": [],
   "source": [
    "crime_chicago.date = pd.to_datetime(crime_chicago.date, format='%m/%d/%Y %I:%M:%S %p')\n",
    "# setting the date time index which will be beneficial in the future\n",
    "crime_chicago.index = pd.DatetimeIndex(crime_chicago.date)"
   ]
  },
  {
   "cell_type": "markdown",
   "metadata": {},
   "source": [
    "Finally, I am done with all data cleaning process. Now, it's time to analyze data."
   ]
  },
  {
   "cell_type": "markdown",
   "metadata": {},
   "source": [
    "# Data analysis"
   ]
  },
  {
   "cell_type": "markdown",
   "metadata": {},
   "source": [
    "## Types of crime\n",
    "#### Question 1: How many types of crimes are found in chicago over the given period?\n",
    "\n"
   ]
  },
  {
   "cell_type": "code",
   "execution_count": 14,
   "metadata": {},
   "outputs": [
    {
     "data": {
      "text/html": [
       "<div>\n",
       "<style scoped>\n",
       "    .dataframe tbody tr th:only-of-type {\n",
       "        vertical-align: middle;\n",
       "    }\n",
       "\n",
       "    .dataframe tbody tr th {\n",
       "        vertical-align: top;\n",
       "    }\n",
       "\n",
       "    .dataframe thead th {\n",
       "        text-align: right;\n",
       "    }\n",
       "</style>\n",
       "<table border=\"1\" class=\"dataframe\">\n",
       "  <thead>\n",
       "    <tr style=\"text-align: right;\">\n",
       "      <th></th>\n",
       "      <th>primary_type</th>\n",
       "      <th>Count</th>\n",
       "    </tr>\n",
       "  </thead>\n",
       "  <tbody>\n",
       "    <tr>\n",
       "      <th>0</th>\n",
       "      <td>THEFT</td>\n",
       "      <td>1326387</td>\n",
       "    </tr>\n",
       "    <tr>\n",
       "      <th>1</th>\n",
       "      <td>BATTERY</td>\n",
       "      <td>1148636</td>\n",
       "    </tr>\n",
       "    <tr>\n",
       "      <th>2</th>\n",
       "      <td>CRIMINAL DAMAGE</td>\n",
       "      <td>717491</td>\n",
       "    </tr>\n",
       "    <tr>\n",
       "      <th>3</th>\n",
       "      <td>NARCOTICS</td>\n",
       "      <td>646056</td>\n",
       "    </tr>\n",
       "    <tr>\n",
       "      <th>4</th>\n",
       "      <td>ASSAULT</td>\n",
       "      <td>393409</td>\n",
       "    </tr>\n",
       "    <tr>\n",
       "      <th>5</th>\n",
       "      <td>OTHER OFFENSE</td>\n",
       "      <td>389390</td>\n",
       "    </tr>\n",
       "    <tr>\n",
       "      <th>6</th>\n",
       "      <td>BURGLARY</td>\n",
       "      <td>361501</td>\n",
       "    </tr>\n",
       "    <tr>\n",
       "      <th>7</th>\n",
       "      <td>MOTOR VEHICLE THEFT</td>\n",
       "      <td>285939</td>\n",
       "    </tr>\n",
       "    <tr>\n",
       "      <th>8</th>\n",
       "      <td>DECEPTIVE PRACTICE</td>\n",
       "      <td>246400</td>\n",
       "    </tr>\n",
       "    <tr>\n",
       "      <th>9</th>\n",
       "      <td>ROBBERY</td>\n",
       "      <td>237337</td>\n",
       "    </tr>\n",
       "    <tr>\n",
       "      <th>10</th>\n",
       "      <td>CRIMINAL TRESPASS</td>\n",
       "      <td>180690</td>\n",
       "    </tr>\n",
       "    <tr>\n",
       "      <th>11</th>\n",
       "      <td>WEAPONS VIOLATION</td>\n",
       "      <td>69921</td>\n",
       "    </tr>\n",
       "    <tr>\n",
       "      <th>12</th>\n",
       "      <td>PROSTITUTION</td>\n",
       "      <td>60306</td>\n",
       "    </tr>\n",
       "    <tr>\n",
       "      <th>13</th>\n",
       "      <td>PUBLIC PEACE VIOLATION</td>\n",
       "      <td>45409</td>\n",
       "    </tr>\n",
       "    <tr>\n",
       "      <th>14</th>\n",
       "      <td>OFFENSE INVOLVING CHILDREN</td>\n",
       "      <td>42355</td>\n",
       "    </tr>\n",
       "    <tr>\n",
       "      <th>15</th>\n",
       "      <td>CRIM SEXUAL ASSAULT</td>\n",
       "      <td>24945</td>\n",
       "    </tr>\n",
       "    <tr>\n",
       "      <th>16</th>\n",
       "      <td>SEX OFFENSE</td>\n",
       "      <td>22354</td>\n",
       "    </tr>\n",
       "    <tr>\n",
       "      <th>17</th>\n",
       "      <td>INTERFERENCE WITH PUBLIC OFFICER</td>\n",
       "      <td>15825</td>\n",
       "    </tr>\n",
       "    <tr>\n",
       "      <th>18</th>\n",
       "      <td>GAMBLING</td>\n",
       "      <td>13309</td>\n",
       "    </tr>\n",
       "    <tr>\n",
       "      <th>19</th>\n",
       "      <td>LIQUOR LAW VIOLATION</td>\n",
       "      <td>12120</td>\n",
       "    </tr>\n",
       "    <tr>\n",
       "      <th>20</th>\n",
       "      <td>ARSON</td>\n",
       "      <td>10064</td>\n",
       "    </tr>\n",
       "    <tr>\n",
       "      <th>21</th>\n",
       "      <td>HOMICIDE</td>\n",
       "      <td>9482</td>\n",
       "    </tr>\n",
       "    <tr>\n",
       "      <th>22</th>\n",
       "      <td>KIDNAPPING</td>\n",
       "      <td>5597</td>\n",
       "    </tr>\n",
       "    <tr>\n",
       "      <th>23</th>\n",
       "      <td>INTIMIDATION</td>\n",
       "      <td>3678</td>\n",
       "    </tr>\n",
       "    <tr>\n",
       "      <th>24</th>\n",
       "      <td>STALKING</td>\n",
       "      <td>3256</td>\n",
       "    </tr>\n",
       "    <tr>\n",
       "      <th>25</th>\n",
       "      <td>OBSCENITY</td>\n",
       "      <td>574</td>\n",
       "    </tr>\n",
       "    <tr>\n",
       "      <th>26</th>\n",
       "      <td>CONCEALED CARRY LICENSE VIOLATION</td>\n",
       "      <td>451</td>\n",
       "    </tr>\n",
       "    <tr>\n",
       "      <th>27</th>\n",
       "      <td>NON-CRIMINAL</td>\n",
       "      <td>161</td>\n",
       "    </tr>\n",
       "    <tr>\n",
       "      <th>28</th>\n",
       "      <td>PUBLIC INDECENCY</td>\n",
       "      <td>156</td>\n",
       "    </tr>\n",
       "    <tr>\n",
       "      <th>29</th>\n",
       "      <td>OTHER NARCOTIC VIOLATION</td>\n",
       "      <td>118</td>\n",
       "    </tr>\n",
       "    <tr>\n",
       "      <th>30</th>\n",
       "      <td>HUMAN TRAFFICKING</td>\n",
       "      <td>57</td>\n",
       "    </tr>\n",
       "    <tr>\n",
       "      <th>31</th>\n",
       "      <td>NON - CRIMINAL</td>\n",
       "      <td>38</td>\n",
       "    </tr>\n",
       "    <tr>\n",
       "      <th>32</th>\n",
       "      <td>RITUALISM</td>\n",
       "      <td>14</td>\n",
       "    </tr>\n",
       "    <tr>\n",
       "      <th>33</th>\n",
       "      <td>NON-CRIMINAL (SUBJECT SPECIFIED)</td>\n",
       "      <td>9</td>\n",
       "    </tr>\n",
       "  </tbody>\n",
       "</table>\n",
       "</div>"
      ],
      "text/plain": [
       "                         primary_type    Count\n",
       "0                               THEFT  1326387\n",
       "1                             BATTERY  1148636\n",
       "2                     CRIMINAL DAMAGE   717491\n",
       "3                           NARCOTICS   646056\n",
       "4                             ASSAULT   393409\n",
       "5                       OTHER OFFENSE   389390\n",
       "6                            BURGLARY   361501\n",
       "7                 MOTOR VEHICLE THEFT   285939\n",
       "8                  DECEPTIVE PRACTICE   246400\n",
       "9                             ROBBERY   237337\n",
       "10                  CRIMINAL TRESPASS   180690\n",
       "11                  WEAPONS VIOLATION    69921\n",
       "12                       PROSTITUTION    60306\n",
       "13             PUBLIC PEACE VIOLATION    45409\n",
       "14         OFFENSE INVOLVING CHILDREN    42355\n",
       "15                CRIM SEXUAL ASSAULT    24945\n",
       "16                        SEX OFFENSE    22354\n",
       "17   INTERFERENCE WITH PUBLIC OFFICER    15825\n",
       "18                           GAMBLING    13309\n",
       "19               LIQUOR LAW VIOLATION    12120\n",
       "20                              ARSON    10064\n",
       "21                           HOMICIDE     9482\n",
       "22                         KIDNAPPING     5597\n",
       "23                       INTIMIDATION     3678\n",
       "24                           STALKING     3256\n",
       "25                          OBSCENITY      574\n",
       "26  CONCEALED CARRY LICENSE VIOLATION      451\n",
       "27                       NON-CRIMINAL      161\n",
       "28                   PUBLIC INDECENCY      156\n",
       "29           OTHER NARCOTIC VIOLATION      118\n",
       "30                  HUMAN TRAFFICKING       57\n",
       "31                     NON - CRIMINAL       38\n",
       "32                          RITUALISM       14\n",
       "33   NON-CRIMINAL (SUBJECT SPECIFIED)        9"
      ]
     },
     "execution_count": 14,
     "metadata": {},
     "output_type": "execute_result"
    }
   ],
   "source": [
    "crime_chicago.groupby('primary_type').size().sort_values(ascending=False)\n",
    "crime_count = pd.DataFrame(crime_chicago.groupby('primary_type').size().sort_values(ascending=False).rename('Count').reset_index())\n",
    "crime_count"
   ]
  },
  {
   "cell_type": "markdown",
   "metadata": {},
   "source": [
    "As shown in the above list, there are 35 types of crimes reported to chicago police. Of them, theft was the most \n",
    "reported crime whereas domestic violence is the least reported crime. In fact, there was only one domestic crime\n",
    "reported from 2001 to 2019. I was surprised to see battery theft ranked two in terms of no of reported crime. Since\n",
    "Non-criminal type was found three times in the above list, I grouped them into one category.\n"
   ]
  },
  {
   "cell_type": "code",
   "execution_count": 15,
   "metadata": {},
   "outputs": [
    {
     "data": {
      "text/plain": [
       "array(['THEFT', 'BATTERY', 'ROBBERY', 'CRIMINAL DAMAGE', 'ASSAULT',\n",
       "       'NARCOTICS', 'CRIMINAL TRESPASS', 'DECEPTIVE PRACTICE',\n",
       "       'MOTOR VEHICLE THEFT', 'WEAPONS VIOLATION', 'BURGLARY',\n",
       "       'OTHER OFFENSE', 'OFFENSE INVOLVING CHILDREN',\n",
       "       'INTERFERENCE WITH PUBLIC OFFICER', 'LIQUOR LAW VIOLATION',\n",
       "       'PUBLIC PEACE VIOLATION', 'STALKING', 'KIDNAPPING', 'SEX OFFENSE',\n",
       "       'GAMBLING', 'ARSON', 'CONCEALED CARRY LICENSE VIOLATION',\n",
       "       'CRIM SEXUAL ASSAULT', 'INTIMIDATION', 'HOMICIDE', 'PROSTITUTION',\n",
       "       'OBSCENITY', 'HUMAN TRAFFICKING', 'PUBLIC INDECENCY',\n",
       "       'OTHER NARCOTIC VIOLATION', 'NON-CRIMINAL', 'RITUALISM'],\n",
       "      dtype=object)"
      ]
     },
     "execution_count": 15,
     "metadata": {},
     "output_type": "execute_result"
    }
   ],
   "source": [
    "crime_chicago['primary_type'] = crime_chicago['primary_type'].replace(['NON - CRIMINAL','NON-CRIMINAL (SUBJECT SPECIFIED)'\n",
    "                                                                      ], \n",
    "                                                          'NON-CRIMINAL')\n",
    "crime_chicago.primary_type.unique()"
   ]
  },
  {
   "cell_type": "markdown",
   "metadata": {},
   "source": [
    "I want to see the top 10 most frequently reported crimes in a bar chart."
   ]
  },
  {
   "cell_type": "code",
   "execution_count": 16,
   "metadata": {},
   "outputs": [
    {
     "data": {
      "text/plain": [
       "<matplotlib.axes._subplots.AxesSubplot at 0x10c4feb38>"
      ]
     },
     "execution_count": 16,
     "metadata": {},
     "output_type": "execute_result"
    },
    {
     "data": {
      "image/png": "[encoded data removed]",
      "text/plain": [
       "<Figure size 432x288 with 1 Axes>"
      ]
     },
     "metadata": {
      "needs_background": "light"
     },
     "output_type": "display_data"
    }
   ],
   "source": [
    "crime_count[:10].plot(x='primary_type',y='Count',kind='bar')"
   ]
  },
  {
   "cell_type": "markdown",
   "metadata": {},
   "source": [
    "For 19 years, there were more than 1.4 million theft crime, more than 1.2 million battery crime, and so on.\n",
    "In this top 10 lists, robbery was the least reported crime and it was reported more than 200k times. "
   ]
  },
  {
   "cell_type": "markdown",
   "metadata": {},
   "source": [
    "## Crime location\n",
    "#### Question 2: Which location in chicago experienced highest number of crime incidents?\n"
   ]
  },
  {
   "cell_type": "code",
   "execution_count": 17,
   "metadata": {},
   "outputs": [
    {
     "data": {
      "text/plain": [
       "(179, 2)"
      ]
     },
     "execution_count": 17,
     "metadata": {},
     "output_type": "execute_result"
    }
   ],
   "source": [
    "crime_location = pd.DataFrame(crime_chicago.groupby('location_description').size().sort_values(ascending=False).rename('Count').reset_index())\n",
    "crime_location.shape\n",
    "\n"
   ]
  },
  {
   "cell_type": "markdown",
   "metadata": {},
   "source": [
    "There are 179 unique location descriptions, hence only the top 10 would be visualized.\n"
   ]
  },
  {
   "cell_type": "code",
   "execution_count": 18,
   "metadata": {},
   "outputs": [
    {
     "data": {
      "text/plain": [
       "<matplotlib.axes._subplots.AxesSubplot at 0x1b3d348710>"
      ]
     },
     "execution_count": 18,
     "metadata": {},
     "output_type": "execute_result"
    },
    {
     "data": {
      "image/png": "[encoded data removed]",
      "text/plain": [
       "<Figure size 432x288 with 1 Axes>"
      ]
     },
     "metadata": {
      "needs_background": "light"
     },
     "output_type": "display_data"
    }
   ],
   "source": [
    "crime_location[:10].plot(x='location_description',y='Count',kind='bar')\n"
   ]
  },
  {
   "cell_type": "markdown",
   "metadata": {},
   "source": [
    "Most crime incidents happen on the streets whereas residence is the second highest crime reported area.\n",
    "Small retail store is the least reported crime incidence. Based on this graph, when I visit Chicago next time,\n",
    "I will be more vigilent while walking on the street. "
   ]
  },
  {
   "cell_type": "markdown",
   "metadata": {},
   "source": [
    "#### Question_3: what is the trend of the crimes from 2001 to 2019?"
   ]
  },
  {
   "cell_type": "code",
   "execution_count": 19,
   "metadata": {},
   "outputs": [
    {
     "name": "stdout",
     "output_type": "stream",
     "text": [
      "            Total_crime_per_year\n",
      "date                            \n",
      "2001-12-31                  5739\n",
      "2002-12-31                344629\n",
      "2003-12-31                470774\n",
      "2004-12-31                465983\n",
      "2005-12-31                448709\n",
      "            Total_crime_per_year\n",
      "date                            \n",
      "2015-12-31                257119\n",
      "2016-12-31                265769\n",
      "2017-12-31                263439\n",
      "2018-12-31                262060\n",
      "2019-12-31                175025\n"
     ]
    }
   ],
   "source": [
    "crime_year = crime_chicago.resample('Y').count()\n",
    "crime_year = pd.DataFrame(crime_year.iloc[:,0])\n",
    "crime_year.columns = ['Total_crime_per_year']\n",
    "print(crime_year.head())\n",
    "print(crime_year.tail())"
   ]
  },
  {
   "cell_type": "code",
   "execution_count": 20,
   "metadata": {},
   "outputs": [
    {
     "data": {
      "image/png": "[encoded data removed]",
      "text/plain": [
       "<Figure size 864x432 with 1 Axes>"
      ]
     },
     "metadata": {
      "needs_background": "light"
     },
     "output_type": "display_data"
    }
   ],
   "source": [
    "crime_year = crime_year['2001' : '2019']\n",
    "\n",
    "a = crime_year.index\n",
    "b = np.arange(2001,2019)\n",
    "\n",
    "grid = sns.barplot(x = a ,y = 'Total_crime_per_year', data = crime_year, color = 'blue')\n",
    "\n",
    "grid.set_xticklabels(b, rotation = 60)\n",
    "plt.ylabel('Total Crime')\n",
    "plt.xlabel('Year')\n",
    "plt.title('Crime per Year')\n",
    "plt.axhline(crime_year['Total_crime_per_year'].mean())\n",
    "fig=plt.gcf()\n",
    "fig.set_size_inches(12,6)\n",
    "plt.show()"
   ]
  },
  {
   "cell_type": "markdown",
   "metadata": {},
   "source": [
    "As shown in the above graph, the no of crime was the least on 2001. However, the crime rate increased\n",
    "significantly in 2002.I need to do further investigation why the crime rate increased so much in just one year. \n",
    "There are few possibilities, probably there were some change of economy, immigration of people from other cities, \n",
    "people did not report, and so on. The crime rate further increase in 2003 from 2002. However, crime rate monotonocally \n",
    "reduced until 2015. The crime rate from 2016 to 2018 were remained unchanged. In 2019, the crime rate shows very\n",
    "low because the year is still running. \n"
   ]
  },
  {
   "cell_type": "code",
   "execution_count": 21,
   "metadata": {},
   "outputs": [],
   "source": [
    "#### Question-4:Are some types of crimes more likely to happen in specific month of the year?\n"
   ]
  },
  {
   "cell_type": "code",
   "execution_count": 22,
   "metadata": {},
   "outputs": [
    {
     "data": {
      "image/png": "[encoded data removed]",
      "text/plain": [
       "<Figure size 432x288 with 1 Axes>"
      ]
     },
     "metadata": {
      "needs_background": "light"
     },
     "output_type": "display_data"
    }
   ],
   "source": [
    "month = ['Jan','Feb','Mar',  'Apr', 'May', 'Jun', 'Jul','Aug','Sep','Oct','Nov','Dec']\n",
    "crime_chicago.groupby([crime_chicago.index.month]).size().plot.bar()\n",
    "plt.xticks(np.arange(12), month)\n",
    "plt.title('Crime Per Month')\n",
    "plt.xlabel('Month')\n",
    "plt.ylabel('Number of Crimes Acts')\n",
    "plt.show()\n"
   ]
  },
  {
   "cell_type": "markdown",
   "metadata": {},
   "source": [
    "As shown in the above graph, more crime activities are found to be on summer, i.e. from May to August. \n",
    "On the other hand, less no of crimes happen during cold weather, e.g. Jan, Feb, Macrch, April, Sept, Oct,\n",
    "Nov, and Dec. It is noteable that least amount of crimes are reported on February. Typically, the weather is \n",
    "very cold on February and people tend to have less activity during coldest weather. Thus, less no of crimes are\n",
    "reported. "
   ]
  },
  {
   "cell_type": "markdown",
   "metadata": {},
   "source": [
    "### Question-5: Are some types of crimes more likely to happen in specific day of the week?"
   ]
  },
  {
   "cell_type": "code",
   "execution_count": 25,
   "metadata": {},
   "outputs": [
    {
     "data": {
      "image/png": "[encoded data removed]",
      "text/plain": [
       "<Figure size 432x288 with 1 Axes>"
      ]
     },
     "metadata": {
      "needs_background": "light"
     },
     "output_type": "display_data"
    }
   ],
   "source": [
    "days = ['Monday','Tuesday','Wednesday',  'Thursday', 'Friday', 'Saturday', 'Sunday']\n",
    "crime_chicago.groupby([crime_chicago.index.dayofweek]).size().plot(kind='barh')\n",
    "plt.yticks(np.arange(7), days)\n",
    "plt.xlabel('Number of crimes')\n",
    "plt.ylabel('Day of week')\n",
    "plt.title('Number of crimes by day of week')\n",
    "plt.show()\n"
   ]
  },
  {
   "cell_type": "markdown",
   "metadata": {},
   "source": [
    "As seen in the above bar chart, the crime activities are more or less evenly distributed throughout the week.\n",
    "However, max no of crimes occur on Friday. Since Friday is the end of the week and people tend to go out for \n",
    "party on Friday, it is expected to have more crimes reported on Friday."
   ]
  },
  {
   "cell_type": "markdown",
   "metadata": {},
   "source": [
    "## Question-6: Are some types of crimes more likely to happen in specific time of the day?"
   ]
  },
  {
   "cell_type": "code",
   "execution_count": 24,
   "metadata": {},
   "outputs": [
    {
     "data": {
      "image/png": "[encoded data removed]",
      "text/plain": [
       "<Figure size 432x288 with 1 Axes>"
      ]
     },
     "metadata": {
      "needs_background": "light"
     },
     "output_type": "display_data"
    }
   ],
   "source": [
    "crime_chicago.groupby([crime_chicago.index.hour]).size().plot(kind='barh')\n",
    "plt.xlabel('Number of crimes')\n",
    "plt.ylabel('Hour')\n",
    "plt.title('Number of crimes by hour of day')\n",
    "plt.show()"
   ]
  },
  {
   "cell_type": "markdown",
   "metadata": {},
   "source": [
    "The above bar chart shows the no of crimes at different times of the day. There is a strong correlation between \n",
    "sleeping time and the crime activities. As you can see, least no of crime activities were found at 5 A.M. because \n",
    "people usually sleep at that time and small stores are usually closed. The highest no of crimes were reported during\n",
    "lunch (12 PM), and dinner (7 & 8 PM). "
   ]
  },
  {
   "cell_type": "markdown",
   "metadata": {},
   "source": [
    "## Question-7: Demonstrate arrest rate based on crime categories"
   ]
  },
  {
   "cell_type": "code",
   "execution_count": 27,
   "metadata": {},
   "outputs": [
    {
     "data": {
      "image/png": "[encoded data removed]",
      "text/plain": [
       "<Figure size 432x288 with 1 Axes>"
      ]
     },
     "metadata": {
      "needs_background": "light"
     },
     "output_type": "display_data"
    }
   ],
   "source": [
    "crime_chicago[crime_chicago.arrest == True]['primary_type'].value_counts(normalize=True).plot.bar()\n",
    "plt.title(\"Arrests per crime type\")\n",
    "plt.show()"
   ]
  },
  {
   "cell_type": "markdown",
   "metadata": {},
   "source": [
    "The above bar chart shows the arrest rate for different categories. Since more arrested happened due to narcotics,\n",
    "we can infer that drug is strongly related to crimes. Least no of arrest occured due to Arson, kidnapping, stalking,\n",
    "obscenity, human trafficking, and others."
   ]
  },
  {
   "cell_type": "markdown",
   "metadata": {},
   "source": [
    "#Conclusion\n",
    "\n",
    "In this article, I have investigated the Chicago crime on different days, time, month, and year. I have also\n",
    "reported what kind of criminal activities lead to arrests, where those criminal activities most likely to happen\n",
    ", and finally what criminal activities typically occur. This helps us to gain insights about the criminal activities.\n",
    "Police can be more vigilent about the uprise criminal activities at those specific hour/day/month and thus reduce \n",
    "criminal activies. Here is the summary of my data analysis.\n",
    "\n",
    "1. Theft related criminal activities were most reported.\n",
    "2. According to crime location, prominent crime activities happened on the street.\n",
    "3. Total reported crimes for the last three years are much less and steady compared to 2003. As of today in 2019, crime\n",
    "reports are low. Of course, we do not have the data for the rest of the year.\n",
    "4. More crimes were reported on summer.\n",
    "5. Crimes on Friday night are the highest.\n",
    "6. Typically, lunch and dinner time have the most crime reported. \n",
    "7. Drug (Narcotics) related arrests were the most reported crime in Chicago.\n",
    "\n",
    "\n",
    "In the future, I would like to visualize the crime records on the map which will help me identifying the bad \n",
    "neighbourhood. I would also like to explore more and find more insights from the data.\n"
   ]
  },
  {
   "cell_type": "code",
   "execution_count": null,
   "metadata": {},
   "outputs": [],
   "source": []
  }
 ],
 "metadata": {
  "kernelspec": {
   "display_name": "Python 3",
   "language": "python",
   "name": "python3"
  },
  "language_info": {
   "codemirror_mode": {
    "name": "ipython",
    "version": 3
   },
   "file_extension": ".py",
   "mimetype": "text/x-python",
   "name": "python",
   "nbconvert_exporter": "python",
   "pygments_lexer": "ipython3",
   "version": "3.7.1"
  }
 },
 "nbformat": 4,
 "nbformat_minor": 2
}
